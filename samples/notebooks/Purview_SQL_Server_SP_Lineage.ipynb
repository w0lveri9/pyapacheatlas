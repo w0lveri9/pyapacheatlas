{
 "cells": [
  {
   "cell_type": "markdown",
   "metadata": {},
   "source": [
    "#### Create Microsoft Purview SQL Server Database Stored Procedure Lineage Dynamically\n",
    "The code snippet provided below is designed to automate the process of creating metadata entities and lineage information for Azure SQL Database stored procedures within Microsoft Purview. This automation is achieved by dynamically retrieving information about tables and stored procedures, and then utilizing the PyApacheAtlas API to establish the metadata relationships."
   ]
  },
  {
   "cell_type": "code",
   "execution_count": 1,
   "metadata": {},
   "outputs": [],
   "source": [
    "import json\n",
    "import os\n",
    "import openai\n",
    "from pyapacheatlas.auth import ServicePrincipalAuthentication\n",
    "from pyapacheatlas.core import PurviewClient, AtlasClassification, AtlasEntity, AtlasProcess\n",
    "from pyapacheatlas.core.util import AtlasException\n",
    "import pyodbc\n",
    "import uuid\n",
    "from dotenv import load_dotenv  "
   ]
  },
  {
   "cell_type": "markdown",
   "metadata": {},
   "source": [
    "### Load environment variables and setup database connection"
   ]
  },
  {
   "cell_type": "code",
   "execution_count": 2,
   "metadata": {},
   "outputs": [
    {
     "name": "stdout",
     "output_type": "stream",
     "text": [
      "text-davinci-003\n"
     ]
    }
   ],
   "source": [
    "load_dotenv()  \n",
    "\n",
    "# Load AOAI API Key and Endpoint from .env file\n",
    "openai.api_type: str = \"azure\"  \n",
    "openai.api_key = os.getenv(\"AZURE_OPENAI_API_KEY\")  \n",
    "openai.api_base = os.getenv(\"AZURE_OPENAI_ENDPOINT\")  \n",
    "openai.api_version = os.getenv(\"AZURE_OPENAI_API_VERSION\") \n",
    "model =  os.getenv(\"AZURE_OPENAI_DEPLOYED_MODEL\")\n",
    "\n",
    "# Loads SQL Server environment variables\n",
    "server = os.environ.get(\"DB_SERVER\") \n",
    "database = os.environ.get(\"DATABASE\") \n",
    "driver= os.environ.get(\"DRIVER\") \n",
    "username = os.environ.get(\"USER_NAME\") \n",
    "password = os.environ.get(\"PASSWORD\") \n",
    "schema = os.environ.get(\"SCHEMA\")\n",
    "\n",
    "# Purview fully qualified name\n",
    "qualified_name=f\"mssql://{server}.database.windows.net/{database}/{schema}/\"\n",
    "print(model)"
   ]
  },
  {
   "cell_type": "code",
   "execution_count": 3,
   "metadata": {},
   "outputs": [],
   "source": [
    "# Authenticate against your Atlas server\n",
    "oauth = ServicePrincipalAuthentication(\n",
    "    tenant_id= os.environ.get(\"TENANT_ID\"),\n",
    "    client_id= os.environ.get(\"CLIENT_ID\"),\n",
    "    client_secret= os.environ.get(\"CLIENT_SECRET\")\n",
    ")\n",
    "client = PurviewClient(\n",
    "    account_name = os.environ.get(\"PURVIEW_NAME\", \"\"),\n",
    "    authentication=oauth\n",
    ")\n",
    "\n",
    "# Connect to SQL Server\n",
    "conn = pyodbc.connect('DRIVER='+driver+';SERVER='+server+';PORT=1433;DATABASE='+database+';UID='+username+';PWD='+password)"
   ]
  },
  {
   "cell_type": "code",
   "execution_count": 4,
   "metadata": {},
   "outputs": [],
   "source": [
    "# Check if the table exists in Purview\n",
    "def check_entity_if_exist(client, qualifiedName, typeName):\n",
    "    entities = client.get_entity(qualifiedName=qualifiedName, typeName=typeName)\n",
    "    return len(entities) > 0\n",
    "\n",
    "#check_entity_if_exist(client, \"mssql://xxxx.database.windows.net/sqldb/SalesLT/TargetTableName1\", \"azure_sql_table\")"
   ]
  },
  {
   "cell_type": "markdown",
   "metadata": {},
   "source": [
    "#### Create tables in Purview"
   ]
  },
  {
   "cell_type": "code",
   "execution_count": 8,
   "metadata": {},
   "outputs": [],
   "source": [
    "table_type = \"azure_sql_table\"\n",
    "\n",
    "# Define the SQL query\n",
    "sql_query = \"\"\"\n",
    "    select schema_name(t.schema_id) as schema_name,\n",
    "       t.name as table_name,\n",
    "       t.create_date,\n",
    "       t.modify_date\n",
    "    from sys.tables t\n",
    "    order by schema_name, table_name;    \n",
    "\"\"\"\n",
    "\n",
    "# Create a cursor to execute SQL queries\n",
    "cursor = conn.cursor()\n",
    "\n",
    "# Execute the query\n",
    "cursor.execute(sql_query)\n",
    "\n",
    "# Loop through the query results and create Atlas entities\n",
    "for row in cursor.fetchall():\n",
    "    tb_name = row.table_name\n",
    "    source_qual_name = f\"{qualified_name}{tb_name}\"\n",
    "    #print(f\"Table Name: {source_qual_name}\\n\")\n",
    "    if not check_entity_if_exist(client, source_qual_name, table_type):\n",
    "        tb_input = AtlasEntity(\n",
    "            name=tb_name,\n",
    "            typeName=table_type,\n",
    "            qualified_name=source_qual_name,\n",
    "        )\n",
    "        \n",
    "        results = client.upload_entities(\n",
    "            batch=[tb_input]\n",
    "        )\n",
    "        print(f\"Table {tb_name} created in Purview \\n\")\n",
    "        \n",
    "# Close the cursor and connection\n",
    "cursor.close()\n"
   ]
  },
  {
   "cell_type": "markdown",
   "metadata": {},
   "source": [
    "### Create Lineage"
   ]
  },
  {
   "cell_type": "code",
   "execution_count": 6,
   "metadata": {},
   "outputs": [],
   "source": [
    "# Define the SQL query that returns the stored procedure name and text\n",
    "sql_query = \"\"\"\n",
    "    SELECT name AS sp_name, object_definition(object_id) AS sp_text\n",
    "    FROM sys.procedures\n",
    "\"\"\"\n",
    "\n",
    "# Create a cursor to execute SQL queries\n",
    "cursor = conn.cursor()\n",
    "\n",
    "# Execute the query\n",
    "cursor.execute(sql_query)\n",
    "\n",
    "# Create a dictionary to store the key-value pairs\n",
    "sp_name_text_dict = {}\n",
    "\n",
    "# Loop through the query results and print sp_name and sp_text\n",
    "for row in cursor.fetchall():\n",
    "    sp_name = row.sp_name\n",
    "    sp_text = row.sp_text\n",
    "    sp_name_text_dict[sp_name] = sp_text\n",
    "    #print(f\"Stored Procedure Name: {sp_name}\")\n",
    "    #print(f\"Stored Procedure Text:\\n{sp_text}\\n\")\n",
    "\n",
    "\n",
    "# Close the cursor and connection\n",
    "cursor.close()\n"
   ]
  },
  {
   "cell_type": "code",
   "execution_count": 7,
   "metadata": {},
   "outputs": [],
   "source": [
    "# Close the cursor and connection\n",
    "conn.close()"
   ]
  },
  {
   "cell_type": "code",
   "execution_count": null,
   "metadata": {},
   "outputs": [],
   "source": [
    "# Loop through the dictionary and print the key-value pairs\n",
    "for sp_name, sp_text in sp_name_text_dict.items():\n",
    "    print(f\"Stored Procedure Name: {sp_name}\")\n",
    "    print(f\"Stored Procedure Text:\\n{sp_text}\\n\")"
   ]
  },
  {
   "cell_type": "code",
   "execution_count": 9,
   "metadata": {},
   "outputs": [
    {
     "name": "stdout",
     "output_type": "stream",
     "text": [
      "[{'SourceTableName': []}, {'TargetTableName': []}]\n",
      "[{'SourceTableName': ['ErrorLog']}, {'TargetTableName': ['ErrorLog']}]\n",
      "ErrorLog\n",
      "ErrorLog\n"
     ]
    }
   ],
   "source": [
    "inputs = []\n",
    "outputs = []\n",
    "table_type = \"azure_sql_table\"\n",
    "process_type = \"Process\"\n",
    "\n",
    "# Loop through the dictionary and print the key-value pairs\n",
    "for sp_name, sp_text in sp_name_text_dict.items():\n",
    "    #print(f\"Stored Procedure Name: {sp_name}\")\n",
    "    #print(f\"Stored Procedure Text:\\n{sp_text}\\n\")\n",
    "    PROMPT_TEMPLATE = f\"\"\"\n",
    "                    Instructions:\n",
    "\n",
    "                    Use below stored procedure to generate the Source and Target Table names processed by the stored procedure. Do not include temp table names. \n",
    "\n",
    "                    Output source table name and target table name in below json format only:\n",
    "\n",
    "                    [{{\"SourceTableName\": [\"SourceTableName1\", \"SourceTableName2\"]}}, {{\"TargetTableName\": [\"TargetTableName1\", \"TargetTableName2\"]}}]'\n",
    "\n",
    "                    **DO NOT provide any Solution or explanation or any other output except for SourceTableName and TargetTableName**\n",
    "\n",
    "                    Input:\n",
    "                    {sp_text}\n",
    "                    Output: \n",
    "\n",
    "                    \"\"\"\n",
    "    process_name = sp_name\n",
    "    #print(PROMPT_TEMPLATE)\n",
    "\n",
    "    response = openai.Completion.create(\n",
    "        engine=model,\n",
    "        prompt=PROMPT_TEMPLATE,\n",
    "        temperature=0.7,\n",
    "        max_tokens=2000,\n",
    "        top_p=1,\n",
    "        frequency_penalty=0,\n",
    "        presence_penalty=0,\n",
    "        stop=None)\n",
    "\n",
    "    data_list = json.loads(response.choices[0].text)\n",
    "    print(data_list)\n",
    "\n",
    "    # Loop through the list of dictionaries\n",
    "    for item in data_list:\n",
    "        for key, values in item.items():\n",
    "            if key == \"SourceTableName\":\n",
    "                for value in values:\n",
    "                    #print(f\"  {value}\")\n",
    "                    source_qual_name = f\"{qualified_name}{value}\"\n",
    "                    #print(source_qual_name)\n",
    "                    if check_entity_if_exist(client, source_qual_name, table_type):\n",
    "                        input_entity = AtlasEntity(\n",
    "                            name=value,\n",
    "                            typeName=table_type,\n",
    "                            qualified_name=f\"{qualified_name}{value}\",\n",
    "                            #guid=str(uuid.uuid4())\n",
    "                        )\n",
    "                        # Append the entities to the inputs and outputs lists\n",
    "                        print(value)\n",
    "                        inputs.append(input_entity)\n",
    "        \n",
    "            elif key == \"TargetTableName\":\n",
    "                for value in values:\n",
    "                    #print(f\"  {value}\")\n",
    "                    target_qual_name = f\"{qualified_name}{value}\"\n",
    "                    if check_entity_if_exist(client, target_qual_name, table_type):\n",
    "                        output_entity = AtlasEntity(\n",
    "                            name=value,\n",
    "                            typeName=table_type,\n",
    "                            qualified_name=f\"{qualified_name}{value}\",\n",
    "                            #guid=str(uuid.uuid4())\n",
    "                        )\n",
    "                        print(value)\n",
    "                        outputs.append(output_entity)\n",
    "\n",
    "    # Create the AtlasProcess and upload all entities. Either source or target table name is required to create the process.\n",
    "    if inputs or outputs:\n",
    "        process = AtlasProcess(\n",
    "            name=process_name,\n",
    "            typeName=process_type,\n",
    "            qualified_name=f\"{qualified_name}{process_name}\",\n",
    "            inputs=inputs,\n",
    "            outputs=outputs,\n",
    "            guid=\"-108\" #str(uuid.uuid4())\n",
    "        )\n",
    "\n",
    "        # Convert the individual entities into JSON before uploading.\n",
    "        results = client.upload_entities(\n",
    "            batch=[process] + inputs + outputs\n",
    "        )"
   ]
  }
 ],
 "metadata": {
  "kernelspec": {
   "display_name": ".venv",
   "language": "python",
   "name": "python3"
  },
  "language_info": {
   "codemirror_mode": {
    "name": "ipython",
    "version": 3
   },
   "file_extension": ".py",
   "mimetype": "text/x-python",
   "name": "python",
   "nbconvert_exporter": "python",
   "pygments_lexer": "ipython3",
   "version": "3.11.0"
  },
  "orig_nbformat": 4
 },
 "nbformat": 4,
 "nbformat_minor": 2
}
